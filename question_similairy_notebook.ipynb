{
 "cells": [
  {
   "cell_type": "code",
   "execution_count": 10,
   "metadata": {},
   "outputs": [],
   "source": [
    "## question similarity using word2vec(nepali model) and word mover distance"
   ]
  },
  {
   "cell_type": "markdown",
   "metadata": {},
   "source": [
    "### Notebook Imports"
   ]
  },
  {
   "cell_type": "code",
   "execution_count": 1,
   "metadata": {},
   "outputs": [
    {
     "name": "stderr",
     "output_type": "stream",
     "text": [
      "/opt/anaconda3/lib/python3.8/site-packages/gensim/similarities/__init__.py:15: UserWarning: The gensim.similarities.levenshtein submodule is disabled, because the optional Levenshtein package <https://pypi.org/project/python-Levenshtein/> is unavailable. Install Levenhstein (e.g. `pip install python-Levenshtein`) to suppress this warning.\n",
      "  warnings.warn(msg)\n"
     ]
    }
   ],
   "source": [
    "from gensim.models import KeyedVectors"
   ]
  },
  {
   "cell_type": "code",
   "execution_count": 2,
   "metadata": {},
   "outputs": [],
   "source": [
    "import pandas as pd\n",
    "import numpy as np"
   ]
  },
  {
   "cell_type": "markdown",
   "metadata": {},
   "source": [
    "### load model\n"
   ]
  },
  {
   "cell_type": "code",
   "execution_count": 3,
   "metadata": {},
   "outputs": [],
   "source": [
    "model = KeyedVectors.load_word2vec_format('nepali_embeddings_word2vec.txt', binary=False)"
   ]
  },
  {
   "cell_type": "code",
   "execution_count": 4,
   "metadata": {},
   "outputs": [
    {
     "data": {
      "text/html": [
       "<div>\n",
       "<style scoped>\n",
       "    .dataframe tbody tr th:only-of-type {\n",
       "        vertical-align: middle;\n",
       "    }\n",
       "\n",
       "    .dataframe tbody tr th {\n",
       "        vertical-align: top;\n",
       "    }\n",
       "\n",
       "    .dataframe thead th {\n",
       "        text-align: right;\n",
       "    }\n",
       "</style>\n",
       "<table border=\"1\" class=\"dataframe\">\n",
       "  <thead>\n",
       "    <tr style=\"text-align: right;\">\n",
       "      <th></th>\n",
       "      <th>Sentence</th>\n",
       "      <th>Final Intent</th>\n",
       "    </tr>\n",
       "  </thead>\n",
       "  <tbody>\n",
       "    <tr>\n",
       "      <th>0</th>\n",
       "      <td>तिम्रो नाम के हो</td>\n",
       "      <td>परि</td>\n",
       "    </tr>\n",
       "    <tr>\n",
       "      <th>1</th>\n",
       "      <td>तिमिलाई के भनेर चिन्छन अरुले</td>\n",
       "      <td>परि</td>\n",
       "    </tr>\n",
       "    <tr>\n",
       "      <th>2</th>\n",
       "      <td>तिमिलाई बोलाउनि नाम के हो</td>\n",
       "      <td>परि</td>\n",
       "    </tr>\n",
       "    <tr>\n",
       "      <th>3</th>\n",
       "      <td>म तिमिलाई के भनेर बोलाउ</td>\n",
       "      <td>परि</td>\n",
       "    </tr>\n",
       "    <tr>\n",
       "      <th>4</th>\n",
       "      <td>तिमिलाई के भनेर चिन्छन</td>\n",
       "      <td>परि</td>\n",
       "    </tr>\n",
       "  </tbody>\n",
       "</table>\n",
       "</div>"
      ],
      "text/plain": [
       "                       Sentence Final Intent\n",
       "0              तिम्रो नाम के हो          परि\n",
       "1  तिमिलाई के भनेर चिन्छन अरुले          परि\n",
       "2     तिमिलाई बोलाउनि नाम के हो          परि\n",
       "3       म तिमिलाई के भनेर बोलाउ          परि\n",
       "4        तिमिलाई के भनेर चिन्छन          परि"
      ]
     },
     "execution_count": 4,
     "metadata": {},
     "output_type": "execute_result"
    }
   ],
   "source": [
    "doc = pd.read_csv('dataset_modified.txt',sep=',')\n",
    "doc.head()\n"
   ]
  },
  {
   "cell_type": "code",
   "execution_count": 5,
   "metadata": {},
   "outputs": [],
   "source": [
    "intent_count=pd.DataFrame(doc['Final Intent'].value_counts())\n",
    "intent_count['intent']=intent_count.index"
   ]
  },
  {
   "cell_type": "code",
   "execution_count": 6,
   "metadata": {},
   "outputs": [],
   "source": [
    "intent_count.index = np.arange(len(intent_count))\n",
    "\n",
    "intent_count.columns = ['Count','Intent']"
   ]
  },
  {
   "cell_type": "code",
   "execution_count": 7,
   "metadata": {},
   "outputs": [
    {
     "data": {
      "text/html": [
       "<div>\n",
       "<style scoped>\n",
       "    .dataframe tbody tr th:only-of-type {\n",
       "        vertical-align: middle;\n",
       "    }\n",
       "\n",
       "    .dataframe tbody tr th {\n",
       "        vertical-align: top;\n",
       "    }\n",
       "\n",
       "    .dataframe thead th {\n",
       "        text-align: right;\n",
       "    }\n",
       "</style>\n",
       "<table border=\"1\" class=\"dataframe\">\n",
       "  <thead>\n",
       "    <tr style=\"text-align: right;\">\n",
       "      <th></th>\n",
       "      <th>Intent</th>\n",
       "      <th>Count</th>\n",
       "    </tr>\n",
       "  </thead>\n",
       "  <tbody>\n",
       "    <tr>\n",
       "      <th>0</th>\n",
       "      <td>हुक्का</td>\n",
       "      <td>18</td>\n",
       "    </tr>\n",
       "    <tr>\n",
       "      <th>1</th>\n",
       "      <td>मोमो</td>\n",
       "      <td>17</td>\n",
       "    </tr>\n",
       "    <tr>\n",
       "      <th>2</th>\n",
       "      <td>चाउमिन</td>\n",
       "      <td>17</td>\n",
       "    </tr>\n",
       "    <tr>\n",
       "      <th>3</th>\n",
       "      <td>पिजा</td>\n",
       "      <td>17</td>\n",
       "    </tr>\n",
       "    <tr>\n",
       "      <th>4</th>\n",
       "      <td>चिकेन ललिपप</td>\n",
       "      <td>16</td>\n",
       "    </tr>\n",
       "  </tbody>\n",
       "</table>\n",
       "</div>"
      ],
      "text/plain": [
       "        Intent  Count\n",
       "0       हुक्का     18\n",
       "1         मोमो     17\n",
       "2       चाउमिन     17\n",
       "3         पिजा     17\n",
       "4  चिकेन ललिपप     16"
      ]
     },
     "execution_count": 7,
     "metadata": {},
     "output_type": "execute_result"
    }
   ],
   "source": [
    "intent_count = intent_count[['Intent','Count']]\n",
    "intent_count.head()\n"
   ]
  },
  {
   "cell_type": "markdown",
   "metadata": {},
   "source": [
    "#### saving the dataframe with count for further processing"
   ]
  },
  {
   "cell_type": "code",
   "execution_count": 8,
   "metadata": {},
   "outputs": [],
   "source": [
    "# intent_count.to_csv('follow_up_qsn_v1.csv',index=None)"
   ]
  },
  {
   "cell_type": "code",
   "execution_count": 15,
   "metadata": {},
   "outputs": [
    {
     "data": {
      "text/plain": [
       "0.8173072042066036"
      ]
     },
     "execution_count": 15,
     "metadata": {},
     "output_type": "execute_result"
    }
   ],
   "source": [
    "# checking word mover distance\n",
    "model.wmdistance('म राम्रो छु','म ठिक छु')"
   ]
  },
  {
   "cell_type": "code",
   "execution_count": 71,
   "metadata": {},
   "outputs": [],
   "source": [
    "def most_similar(sentence, corpus,model):\n",
    "    ''' \n",
    "    sentence: question to compare\n",
    "    corpus: dataset containing all questions\n",
    "    model: word2vec pretrained  model on nepali corpus\n",
    "    returns most closest intent to the given sentence and its corresponding similarity measure \n",
    "    '''\n",
    "    similar=[]\n",
    "    sent_list = []\n",
    "    for sent in corpus.values:\n",
    "        sim = model.wmdistance(sentence,sent[0])\n",
    "        similar.append(sim)\n",
    "    most_sim_list= sorted(range(len(similar)), key=lambda x: similar[x])[:1]\n",
    "    max_sim_value = max(similar)\n",
    "    for i in most_sim_list:\n",
    "        sent_list.append(corpus.iloc[i,1])\n",
    "    return sent_list[0],max_sim_value"
   ]
  },
  {
   "cell_type": "code",
   "execution_count": 72,
   "metadata": {},
   "outputs": [],
   "source": [
    "sent1='अफर छैन'\n",
    "intent,max_sim=most_similar(sent1,doc,model)"
   ]
  },
  {
   "cell_type": "code",
   "execution_count": 73,
   "metadata": {},
   "outputs": [
    {
     "data": {
      "text/plain": [
       "'अफर'"
      ]
     },
     "execution_count": 73,
     "metadata": {},
     "output_type": "execute_result"
    }
   ],
   "source": [
    "intent"
   ]
  },
  {
   "cell_type": "code",
   "execution_count": 65,
   "metadata": {},
   "outputs": [
    {
     "data": {
      "text/plain": [
       "1.264619942931464"
      ]
     },
     "execution_count": 65,
     "metadata": {},
     "output_type": "execute_result"
    }
   ],
   "source": [
    "max_sim"
   ]
  },
  {
   "cell_type": "markdown",
   "metadata": {},
   "source": [
    "### reading the dataset with respones"
   ]
  },
  {
   "cell_type": "code",
   "execution_count": 60,
   "metadata": {},
   "outputs": [],
   "source": [
    "df_with_res = pd.read_csv('follow_up_qsn_v1_1.csv',sep=',')"
   ]
  },
  {
   "cell_type": "code",
   "execution_count": 64,
   "metadata": {},
   "outputs": [
    {
     "data": {
      "text/html": [
       "<div>\n",
       "<style scoped>\n",
       "    .dataframe tbody tr th:only-of-type {\n",
       "        vertical-align: middle;\n",
       "    }\n",
       "\n",
       "    .dataframe tbody tr th {\n",
       "        vertical-align: top;\n",
       "    }\n",
       "\n",
       "    .dataframe thead th {\n",
       "        text-align: right;\n",
       "    }\n",
       "</style>\n",
       "<table border=\"1\" class=\"dataframe\">\n",
       "  <thead>\n",
       "    <tr style=\"text-align: right;\">\n",
       "      <th></th>\n",
       "      <th>Intent</th>\n",
       "      <th>Count</th>\n",
       "      <th>response</th>\n",
       "    </tr>\n",
       "  </thead>\n",
       "  <tbody>\n",
       "    <tr>\n",
       "      <th>44</th>\n",
       "      <td>फेन्टा</td>\n",
       "      <td>8</td>\n",
       "      <td>यहाँ फेन्टा पाइन्छ। हामी सँग जम्बो फेन्टा र सा...</td>\n",
       "    </tr>\n",
       "    <tr>\n",
       "      <th>45</th>\n",
       "      <td>स्प्राइट</td>\n",
       "      <td>8</td>\n",
       "      <td>यहाँ स्प्राइट पाइन्छ। हामी सँग जम्बो स्प्राइट ...</td>\n",
       "    </tr>\n",
       "    <tr>\n",
       "      <th>46</th>\n",
       "      <td>रेस्टुरेन्ट</td>\n",
       "      <td>7</td>\n",
       "      <td>यो रेस्टुरेन्टको नाम ग्रीन भ्याली हो र हजुर ला...</td>\n",
       "    </tr>\n",
       "    <tr>\n",
       "      <th>47</th>\n",
       "      <td>कम्पनि</td>\n",
       "      <td>7</td>\n",
       "      <td>मलाई पाइला टेक्नोलोजीले बनाएको हो | पाइला टेक्...</td>\n",
       "    </tr>\n",
       "    <tr>\n",
       "      <th>48</th>\n",
       "      <td>अन्य</td>\n",
       "      <td>0</td>\n",
       "      <td>सरि तपाइको प्रश्न यो रेस्टुरेन्ट सम्बन्धि हुनु...</td>\n",
       "    </tr>\n",
       "  </tbody>\n",
       "</table>\n",
       "</div>"
      ],
      "text/plain": [
       "         Intent  Count                                           response\n",
       "44       फेन्टा      8  यहाँ फेन्टा पाइन्छ। हामी सँग जम्बो फेन्टा र सा...\n",
       "45     स्प्राइट      8  यहाँ स्प्राइट पाइन्छ। हामी सँग जम्बो स्प्राइट ...\n",
       "46  रेस्टुरेन्ट      7  यो रेस्टुरेन्टको नाम ग्रीन भ्याली हो र हजुर ला...\n",
       "47       कम्पनि      7  मलाई पाइला टेक्नोलोजीले बनाएको हो | पाइला टेक्...\n",
       "48         अन्य      0  सरि तपाइको प्रश्न यो रेस्टुरेन्ट सम्बन्धि हुनु..."
      ]
     },
     "execution_count": 64,
     "metadata": {},
     "output_type": "execute_result"
    }
   ],
   "source": [
    "df_with_res.tail()"
   ]
  },
  {
   "cell_type": "code",
   "execution_count": 74,
   "metadata": {},
   "outputs": [],
   "source": [
    "def respond(df_with_res,intent,max_sim):\n",
    "    '''df_with_res: dataframe that has response\n",
    "        max_idx: intent_returned by the similarity function\n",
    "        max_sim: measure of how similar the returned setence is with the given sentence\n",
    "    '''\n",
    "    if max_sim >0.7:\n",
    "        res=df_with_res.loc[df_with_res['Intent'] == intent]['response']\n",
    "    else:\n",
    "        res= df_with_res.loc[df_with_res['Intent'] == 'अन्य']['response']\n",
    "    return res.values[0]"
   ]
  },
  {
   "cell_type": "code",
   "execution_count": 75,
   "metadata": {},
   "outputs": [
    {
     "data": {
      "text/plain": [
       "'अफर भनेर त केहि छैन तर थोरै डिस्काउन्ट हुन्छ |'"
      ]
     },
     "execution_count": 75,
     "metadata": {},
     "output_type": "execute_result"
    }
   ],
   "source": [
    "respond(df_with_res=df_with_res, intent=intent, max_sim=max_sim)"
   ]
  },
  {
   "cell_type": "markdown",
   "metadata": {},
   "source": [
    "### database connectivity"
   ]
  },
  {
   "cell_type": "code",
   "execution_count": 32,
   "metadata": {},
   "outputs": [],
   "source": [
    "import os\n",
    "import pymysql"
   ]
  },
  {
   "cell_type": "code",
   "execution_count": 63,
   "metadata": {},
   "outputs": [],
   "source": [
    "host = os.getenv('MYSQL_HOST')\n",
    "port = os.getenv('MYSQL_PORT')\n",
    "user = os.getenv('MYSQL_USER')\n",
    "password = os.getenv('MYSQL_PASSWORD')\n",
    "database = os.getenv('MYSQL_DATABASE')\n",
    "\n",
    "conn = pymysql.connect(\n",
    "    host=host,\n",
    "    port=int(3306),\n",
    "    user=\"root\",\n",
    "    passwd=password,\n",
    "    db=\"NLP\",\n",
    "    charset='utf8mb4')"
   ]
  },
  {
   "cell_type": "code",
   "execution_count": 64,
   "metadata": {},
   "outputs": [],
   "source": [
    "# conn.close()"
   ]
  },
  {
   "cell_type": "code",
   "execution_count": 80,
   "metadata": {},
   "outputs": [
    {
     "data": {
      "text/plain": [
       "'अफर भनेर त केहि छैन तर थोरै डिस्काउन्ट हुन्छ |'"
      ]
     },
     "execution_count": 80,
     "metadata": {},
     "output_type": "execute_result"
    }
   ],
   "source": [
    "df = pd.read_sql_query(\"SELECT response FROM follow_up_qsn_v2 WHERE Intent='{}'\".format(max_idx[0]),\n",
    "    conn)\n",
    "df.iloc[0,0]"
   ]
  },
  {
   "cell_type": "code",
   "execution_count": null,
   "metadata": {},
   "outputs": [],
   "source": []
  }
 ],
 "metadata": {
  "kernelspec": {
   "display_name": "Python 3",
   "language": "python",
   "name": "python3"
  },
  "language_info": {
   "codemirror_mode": {
    "name": "ipython",
    "version": 3
   },
   "file_extension": ".py",
   "mimetype": "text/x-python",
   "name": "python",
   "nbconvert_exporter": "python",
   "pygments_lexer": "ipython3",
   "version": "3.8.3"
  }
 },
 "nbformat": 4,
 "nbformat_minor": 4
}
